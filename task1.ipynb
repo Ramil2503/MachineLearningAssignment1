{
 "cells": [
  {
   "cell_type": "code",
   "execution_count": null,
   "metadata": {
    "vscode": {
     "languageId": "plaintext"
    }
   },
   "outputs": [],
   "source": [
    "import pandas as pd\n",
    "\n",
    "csv = pd.read_csv('turboaz.csv')\n",
    "dataframe = csv[['Yurush','Buraxilish ili','Qiymet']]\n",
    "# print(dataframe)\n",
    "\n",
    "# delete km, spaces, and convert to int\n",
    "dataframe.loc[:, 'Yurush'] = dataframe['Yurush'].str.replace(' km', '').str.replace(' ', '').astype(int)\n",
    "\n",
    "# if the price is given in USD convert it to manats\n",
    "def convert_price(price):\n",
    "    if '$' in price:\n",
    "        return float(price.replace('$', '').replace(',', '')) * 1.7\n",
    "    else:\n",
    "        return float(price.replace('AZN', '').replace(',', ''))\n",
    "\n",
    "dataframe.loc[:, 'Qiymet'] = dataframe['Qiymet'].apply(convert_price)\n"
   ]
  }
 ],
 "metadata": {
  "language_info": {
   "name": "python"
  }
 },
 "nbformat": 4,
 "nbformat_minor": 2
}
